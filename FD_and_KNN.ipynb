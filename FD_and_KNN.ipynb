{
 "cells": [
  {
   "cell_type": "code",
   "execution_count": 2,
   "id": "b7e3bd34",
   "metadata": {},
   "outputs": [
    {
     "name": "stderr",
     "output_type": "stream",
     "text": [
      "2022-10-08 16:35:49.233940: W tensorflow/stream_executor/platform/default/dso_loader.cc:64] Could not load dynamic library 'libcudart.so.11.0'; dlerror: libcudart.so.11.0: cannot open shared object file: No such file or directory; LD_LIBRARY_PATH: /home/mo/.local/lib/python3.10/site-packages/cv2/../../lib64:\n",
      "2022-10-08 16:35:49.233958: I tensorflow/stream_executor/cuda/cudart_stub.cc:29] Ignore above cudart dlerror if you do not have a GPU set up on your machine.\n"
     ]
    }
   ],
   "source": [
    "from PIL import Image\n",
    "import numpy as np\n",
    "import matplotlib.pyplot as plt\n",
    "from matplotlib import cm\n",
    "import cv2\n",
    "from sklearn.cluster import KMeans\n",
    "from sklearn import preprocessing\n",
    "import seaborn as sns\n",
    "from sklearn.model_selection import train_test_split\n",
    "from sklearn.metrics import classification_report,confusion_matrix\n",
    "import tensorflow as tf\n",
    "import cv2\n",
    "import os\n",
    "import random\n",
    "from sklearn import metrics"
   ]
  },
  {
   "cell_type": "code",
   "execution_count": 1,
   "id": "7691ca3f",
   "metadata": {},
   "outputs": [],
   "source": [
    "def ravel(x):\n",
    "    return np.array([np.ravel(x[i]) for i in range(len(x))])"
   ]
  },
  {
   "cell_type": "markdown",
   "id": "c01d67a6",
   "metadata": {},
   "source": [
    "### Import Data"
   ]
  },
  {
   "cell_type": "code",
   "execution_count": 14,
   "id": "e218e800",
   "metadata": {},
   "outputs": [],
   "source": [
    "labels = [\"Cube\",\"Tetrahedron\",\"cow\",\"Pyramid\",\"diamond\", \"dodecahedron\",\"icosahedron\"\\\n",
    "          , \"Torus\", \"Cylinder\",\"human\"]"
   ]
  },
  {
   "cell_type": "code",
   "execution_count": 4,
   "id": "758c0f2c",
   "metadata": {},
   "outputs": [],
   "source": [
    "data_set_edge = np.load(\"./Data/data_set_edge.npy\",allow_pickle =True)\n",
    "data_set_img = np.load(\"./Data/data_set_img.npy\",allow_pickle =True)\n",
    "data_set_FD = np.load(\"./Data/data_set_FD.npy\",allow_pickle =True)"
   ]
  },
  {
   "cell_type": "code",
   "execution_count": 5,
   "id": "100be670",
   "metadata": {},
   "outputs": [],
   "source": [
    "X_edge, X_img = [], [] \n",
    "y=[]\n",
    "for feature, label in data_set_edge:\n",
    "    X_edge.append(feature)\n",
    "    y.append(label)\n",
    "for feature, label in data_set_img:\n",
    "    X_img.append(feature)\n",
    "#Spliting the Data \n",
    "\n",
    "X_edge_train, X_edge_test, y_edge_train, y_edge_test = train_test_split(ravel(X_edge), y, test_size=0.33)\n",
    "X_img_train, X_img_test, y_img_train, y_img_test = train_test_split(ravel(X_img), y, test_size=0.33)\n"
   ]
  },
  {
   "cell_type": "code",
   "execution_count": 6,
   "id": "228e05ba",
   "metadata": {},
   "outputs": [],
   "source": [
    "X_FD = []\n",
    "y=[]\n",
    "for feature, label in data_set_FD:\n",
    "    X_FD.append(feature)\n",
    "    y.append(label)\n",
    "X_FD_train, X_FD_test, y_FD_train, y_FD_test = train_test_split(X_FD, y, test_size=0.33)\n"
   ]
  },
  {
   "cell_type": "markdown",
   "id": "98905d45",
   "metadata": {},
   "source": [
    "### Kmeans"
   ]
  },
  {
   "cell_type": "code",
   "execution_count": null,
   "id": "a097d56b",
   "metadata": {},
   "outputs": [],
   "source": [
    "kmeans_edge = KMeans(n_clusters=len(labels))\n",
    "kmeans_img = KMeans(n_clusters=len(labels))\n",
    "kmeans_FD = KMeans(n_clusters=len(labels))\n",
    "kmeans_edge.fit(X_edge_train) \n",
    "kmeans_img.fit(X_img_train)\n",
    "kmeans_FD.fit(X_FD_train)\n"
   ]
  },
  {
   "cell_type": "code",
   "execution_count": null,
   "id": "123b27c7",
   "metadata": {},
   "outputs": [],
   "source": [
    "predict_edge = kmeans_edge.predict(X_edge_test)\n",
    "score_edge = kmeans_edge.score(X_edge_test)\n",
    "predict_img = kmeans_edge.predict(X_img_test)\n",
    "score_img = kmeans_edge.score(X_img_test)\n",
    "predict_FD = kmeans_FD.predict(X_FD_test)\n",
    "score_FD = kmeans_FD.score(X_FD_test)\n",
    "\n",
    "print(\"Kmeans on images: \",score_img)\n",
    "print(\"Kmeans on edges: \",score_edge)\n",
    "print(\"Kmeans on FDs: \",score_FD)"
   ]
  },
  {
   "cell_type": "markdown",
   "id": "3166235e",
   "metadata": {},
   "source": [
    "### LogReg"
   ]
  },
  {
   "cell_type": "code",
   "execution_count": null,
   "id": "30c7cb4b",
   "metadata": {},
   "outputs": [],
   "source": [
    "model = LogisticRegression(multi_class='multinomial', solver='lbfgs', max_iter =100000000)\n",
    "model.fit(normalize(X_FD), y)\n",
    "cv = sklearn.model_selection.RepeatedStratifiedKFold(n_splits=10, n_repeats=3, random_state=1)\n",
    "# evaluate the model and collect the scores\n",
    "n_scores = sklearn.model_selection.cross_val_score(model, X_FD, y, scoring='accuracy', cv=cv, n_jobs=-1)\n",
    "print('Mean Accuracy: %.3f (%.3f)' % (np.mean(n_scores), np.std(n_scores)))"
   ]
  }
 ],
 "metadata": {
  "kernelspec": {
   "display_name": "Python 3 (ipykernel)",
   "language": "python",
   "name": "python3"
  },
  "language_info": {
   "codemirror_mode": {
    "name": "ipython",
    "version": 3
   },
   "file_extension": ".py",
   "mimetype": "text/x-python",
   "name": "python",
   "nbconvert_exporter": "python",
   "pygments_lexer": "ipython3",
   "version": "3.10.7"
  }
 },
 "nbformat": 4,
 "nbformat_minor": 5
}
