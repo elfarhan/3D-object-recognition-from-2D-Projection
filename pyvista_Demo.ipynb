{
 "cells": [
  {
   "cell_type": "code",
   "execution_count": null,
   "id": "3fa72bc4",
   "metadata": {},
   "outputs": [],
   "source": [
    "import pyvista \n",
    "from pyvista import examples\n",
    "import numpy as np\n",
    "\n",
    "#  https://docs.pyvista.org/search.html?q=shadow\n",
    "\n"
   ]
  },
  {
   "cell_type": "code",
   "execution_count": null,
   "id": "5736638a",
   "metadata": {},
   "outputs": [],
   "source": [
    "mesh = examples.download_cow()"
   ]
  },
  {
   "cell_type": "code",
   "execution_count": null,
   "id": "fe493238",
   "metadata": {},
   "outputs": [],
   "source": [
    "pl = pyvista.Plotter()\n",
    "pl.add_mesh(mesh, show_edges=True)\n",
    "pl.show()"
   ]
  },
  {
   "cell_type": "code",
   "execution_count": null,
   "id": "3e4502d0",
   "metadata": {},
   "outputs": [],
   "source": [
    "pyvista.global_theme.background = 'white' \n",
    "\n",
    "\n",
    "bounds = mesh.bounds\n",
    "rnge = (bounds[1] - bounds[0], bounds[3] - bounds[2], bounds[5] - bounds[4])\n",
    "\n",
    "\n",
    "light = pyvista.Light(\n",
    "    position=(0, 0, 1000*rnge[2]), #above the object, we can change it position later\n",
    "    focal_point=(0, 0, 0),\n",
    "    color=[1.0, 1.0, 1.0, 1.0],  \n",
    "    intensity=1,          \n",
    ")\n",
    "\n",
    "\n",
    "expand = 1.5\n",
    "height = rnge[2] * 0.05\n",
    "center = np.array(mesh.center)\n",
    "center -= [0, 0,5*max(rnge)]\n",
    "\n",
    "width = rnge[0] * (1 + expand)\n",
    "length = rnge[1] * (1 + expand)\n",
    "# the dimension of the base mesh\n",
    "base_mesh = pyvista.Cube(center, max(rnge) , max(rnge), height)\n",
    "\n",
    "# we can rotate base or mesh \n",
    "#base_mesh.rotate_x(40, inplace=True)\n",
    "#mesh.rotate_y(25, inplace=True)\n",
    "#mesh.rotate_x(10, inplace=True)\n",
    "#mesh.rotate_z(30, inplace=True)\n",
    "\n",
    "# create the plotter with custom lighting\n",
    "pl = pyvista.Plotter(lighting=None, window_size=(800,800))\n",
    "pl.add_light(light)\n",
    "pl.add_mesh(mesh)\n",
    "pl.add_mesh(base_mesh)\n",
    "pl.enable_shadows()\n",
    "\n",
    "\n",
    "#### First\n",
    "\n",
    "#pl.show()\n",
    "\n",
    "\n",
    "#### Second\n",
    "#### apply this, make the camera under the oject exactly.\n",
    "\n",
    "#pl.set_position([0, 0, bounds[4]-1])\n",
    "#pl.show()\n",
    "\n",
    "\n",
    "\n",
    "#### Finaly\n",
    "#### Apply this to export screenshot \n",
    "\n",
    "#pl.set_position([0, 0, bounds[4]-1])\n",
    "#pl.screenshot(\"screenshot\")\n",
    "\n",
    "\n",
    "#### Now go and play with  the angles\n"
   ]
  },
  {
   "cell_type": "code",
   "execution_count": null,
   "id": "3fb9cf4d",
   "metadata": {},
   "outputs": [],
   "source": []
  }
 ],
 "metadata": {
  "kernelspec": {
   "display_name": "Python 3 (ipykernel)",
   "language": "python",
   "name": "python3"
  },
  "language_info": {
   "codemirror_mode": {
    "name": "ipython",
    "version": 3
   },
   "file_extension": ".py",
   "mimetype": "text/x-python",
   "name": "python",
   "nbconvert_exporter": "python",
   "pygments_lexer": "ipython3",
   "version": "3.9.12"
  }
 },
 "nbformat": 4,
 "nbformat_minor": 5
}
