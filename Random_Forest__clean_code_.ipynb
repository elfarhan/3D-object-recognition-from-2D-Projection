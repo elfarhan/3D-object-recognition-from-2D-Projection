{
 "cells": [
  {
   "cell_type": "code",
   "execution_count": null,
   "id": "e090c1a4",
   "metadata": {},
   "outputs": [],
   "source": [
    "import matplotlib.pyplot as plt\n",
    "import seaborn as sns\n",
    "import cv2\n",
    "import os\n",
    "import numpy as np\n",
    "import keras\n",
    "from sklearn.model_selection import train_test_split\n",
    "from sklearn.metrics import accuracy_score,confusion_matrix,classification_report\n",
    "import random\n",
    "from sklearn import metrics\n",
    "from sklearn.model_selection import train_test_split\n",
    "from sklearn.ensemble import RandomForestClassifier"
   ]
  },
  {
   "cell_type": "code",
   "execution_count": null,
   "id": "1a5bb963",
   "metadata": {},
   "outputs": [],
   "source": [
    "labels = ['pyramid', 'Tetrahedron','cow','cube','sphere']\n",
    "img_size = 600\n",
    "def get_data(data_dir,data_size):\n",
    "    data = [] \n",
    "    for label in labels: \n",
    "        path = os.path.join(data_dir, label)\n",
    "        class_num = labels.index(label)\n",
    "        for i in range(data_size):\n",
    "            img=os.listdir(path)[i]\n",
    "            try:\n",
    "                img_arr = cv2.imread(os.path.join(path, img),cv2.IMREAD_GRAYSCALE)\n",
    "                resized_arr = cv2.resize(img_arr, (img_size, img_size)) #Reshaping images to preferred size\n",
    "                data.append([resized_arr, class_num])\n",
    "            except Exception as e:\n",
    "                print(e)\n",
    "    return np.array(data)"
   ]
  },
  {
   "cell_type": "code",
   "execution_count": null,
   "id": "0721b39d",
   "metadata": {},
   "outputs": [],
   "source": [
    "data_size=500\n",
    "data_set = get_data(r'.\\Data',data_size)"
   ]
  },
  {
   "cell_type": "code",
   "execution_count": null,
   "id": "a5c4ce1d",
   "metadata": {},
   "outputs": [],
   "source": [
    "X=[]\n",
    "y=[]\n",
    "for feature, label in data_set:\n",
    "    X.append(feature)\n",
    "    y.append(label)\n"
   ]
  },
  {
   "cell_type": "code",
   "execution_count": null,
   "id": "e9695e07",
   "metadata": {},
   "outputs": [],
   "source": [
    "#test \n",
    "num = random.randint(0,len(X_train))\n",
    "plt.figure(figsize = (5,5))\n",
    "plt.imshow(X[num],cmap='gray')\n",
    "plt.title(labels[y[num]])\n",
    "print(num)"
   ]
  },
  {
   "cell_type": "code",
   "execution_count": null,
   "id": "ad5ef691",
   "metadata": {},
   "outputs": [],
   "source": [
    "#Spliting the Data \n",
    "X_train, X_test, y_train, y_test = train_test_split(X, y, test_size=0.33)"
   ]
  },
  {
   "cell_type": "code",
   "execution_count": null,
   "id": "3d275716",
   "metadata": {},
   "outputs": [],
   "source": [
    "#test \n",
    "num = random.randint(0,len(X_train))\n",
    "plt.figure(figsize = (5,5))\n",
    "plt.imshow(X_train[num],cmap='gray')\n",
    "plt.title(y_train[num])\n",
    "print(num)"
   ]
  },
  {
   "cell_type": "code",
   "execution_count": null,
   "id": "c7e0719c",
   "metadata": {},
   "outputs": [],
   "source": [
    "# Normalize the data\n",
    "\n",
    "X_train = np.array(X_train) / 255\n",
    "X_test = np.array(X_test) / 255\n",
    "\n",
    "#reshape and convert target values to one hot vectors\n",
    "#X_train=X_train.reshape(-1, img_size, img_size, 1)\n",
    "y_train = np.array(y_train)\n",
    "#y_train = keras.utils.to_categorical(y_train, len(labels))\n",
    "\n",
    "\n",
    "#X_test=X_test.reshape(-1, img_size, img_size, 1)\n",
    "y_test = np.array(y_test)\n",
    "#y_test = keras.utils.to_categorical(y_test, len(labels))\n",
    "\n",
    "print(np.shape(X_train))\n",
    "print(np.shape(y_train))\n",
    "print(np.shape(X_test))\n",
    "print(np.shape(y_test))"
   ]
  },
  {
   "cell_type": "code",
   "execution_count": null,
   "id": "034fcaf0",
   "metadata": {},
   "outputs": [],
   "source": [
    "#sklearn expects 2d array, reshape to 2d array:\n",
    "x_train2 = X_train.reshape((len(X_train),img_size**2))\n",
    "x_test2 = X_test.reshape((len(X_test),img_size**2))"
   ]
  },
  {
   "cell_type": "code",
   "execution_count": null,
   "id": "5b1ab45c",
   "metadata": {},
   "outputs": [],
   "source": [
    "print(np.shape(x_train2))\n",
    "print(np.shape(x_test2))"
   ]
  },
  {
   "cell_type": "code",
   "execution_count": null,
   "id": "02f8322f",
   "metadata": {},
   "outputs": [],
   "source": [
    "from sklearn.ensemble import RandomForestClassifier\n",
    "rnd_clf = RandomForestClassifier(n_estimators=500, max_leaf_nodes=30, n_jobs=-1, random_state=42)"
   ]
  },
  {
   "cell_type": "code",
   "execution_count": null,
   "id": "f884776f",
   "metadata": {},
   "outputs": [],
   "source": [
    "# training of the random forest\n",
    "rnd_clf.fit(x_train2,y_train)"
   ]
  },
  {
   "cell_type": "markdown",
   "id": "915134cf",
   "metadata": {},
   "source": [
    "## Accuracy"
   ]
  },
  {
   "cell_type": "code",
   "execution_count": null,
   "id": "bcd75025",
   "metadata": {},
   "outputs": [],
   "source": [
    "# accuracy\n",
    "y_pred_train = rnd_clf.predict(x_train2)\n",
    "print('training accuracy:', accuracy_score(y_train, y_pred_train))\n",
    "\n",
    "y_pred_test = rnd_clf.predict(x_test2)\n",
    "print('test accuracy:', accuracy_score(y_test, y_pred_test))"
   ]
  },
  {
   "cell_type": "markdown",
   "id": "e5a82ae1",
   "metadata": {},
   "source": [
    "## Classification report"
   ]
  },
  {
   "cell_type": "code",
   "execution_count": null,
   "id": "16281346",
   "metadata": {},
   "outputs": [],
   "source": [
    "y_pred=rnd_clf.predict(x_test2)\n",
    "\n",
    "accuracy_score(y_pred,y_test)\n",
    "print(classification_report(y_pred,y_test))"
   ]
  },
  {
   "cell_type": "markdown",
   "id": "d607a607",
   "metadata": {},
   "source": [
    "## confusion matrix"
   ]
  },
  {
   "cell_type": "code",
   "execution_count": null,
   "id": "8c827535",
   "metadata": {},
   "outputs": [],
   "source": [
    "# confusion matrix\n",
    "\n",
    "\n",
    "y_pred=rnd_clf.predict(x_test2)\n",
    "# convert one hot to vector\n",
    "\n",
    "cm1 = metrics.confusion_matrix(y_test, y_pred)\n",
    "\n",
    "plt.figure(figsize=(9,9))\n",
    "ax= plt.subplot()\n",
    "sns.heatmap(cm1, annot=True, fmt=\".0f\", linewidths=.5, square=True, cmap='Blues_r')\n",
    "ax.set_ylabel('true shape', size=17)\n",
    "ax.set_xlabel('predicted shape', size=17)\n",
    "ax.xaxis.set_ticklabels(labels); ax.yaxis.set_ticklabels(labels)\n"
   ]
  },
  {
   "cell_type": "markdown",
   "id": "c8084266",
   "metadata": {},
   "source": [
    "## Showing all errors"
   ]
  },
  {
   "cell_type": "code",
   "execution_count": null,
   "id": "922d2645",
   "metadata": {
    "scrolled": true
   },
   "outputs": [],
   "source": [
    "errors = (y_pred - y_test != 0)\n",
    "error_pos = np.array(np.where(errors))\n",
    "print('total number of errors:', len(error_pos[0,:]))\n",
    "\n",
    "errl=[]\n",
    "for i in range(len(y_test)):\n",
    "    if y_pred[i] - y_test[i] != 0:\n",
    "        errl.append(i)\n",
    "        \n",
    "plt.figure(figsize=(80,80))\n",
    "x, y =2,int(len(errl)/2)+1\n",
    "for i in range(len(errl)):\n",
    "    plt.subplot(y, x,i+1)\n",
    "    m=int(errl[i])\n",
    "    plt.imshow(X[m],cmap='gray')\n",
    "    plt.title('target: {}\\npredicted: {}'.format((labels[y_test[m]]),labels[y_pred[m]]))\n",
    "    plt.tight_layout()\n",
    "    plt.axis('off')\n",
    "plt.show()"
   ]
  },
  {
   "cell_type": "markdown",
   "id": "f1cbe1a4",
   "metadata": {},
   "source": [
    "## Showing some (random) errors"
   ]
  },
  {
   "cell_type": "code",
   "execution_count": null,
   "id": "65db8dfb",
   "metadata": {
    "scrolled": false
   },
   "outputs": [],
   "source": [
    "errors = (y_pred - y_test != 0)\n",
    "error_pos = np.array(np.where(errors))\n",
    "print('total number of errors:', len(error_pos[0,:]))\n",
    "\n",
    "errl=[]\n",
    "for i in range(len(y_test)):\n",
    "    if y_pred[i] - y_test[i] != 0:\n",
    "        errl.append(i)\n",
    "        \n",
    "plt.figure(figsize=(15,15))\n",
    "x, y =3,int(25/3)+1\n",
    "for i in range(25):\n",
    "    plt.subplot(y, x,i+1)\n",
    "    m=int(errl[i])\n",
    "    plt.imshow(X[m],cmap='gray')\n",
    "    plt.title('true shape: {}\\npredicted: {}'.format((labels[y_test[m]]),labels[y_pred[m]]))\n",
    "    plt.tight_layout()\n",
    "    plt.axis('off')\n",
    "plt.show()"
   ]
  },
  {
   "cell_type": "markdown",
   "id": "93e3a4e5",
   "metadata": {},
   "source": [
    "## show some cows"
   ]
  },
  {
   "cell_type": "code",
   "execution_count": null,
   "id": "06ca9faf",
   "metadata": {
    "scrolled": false
   },
   "outputs": [],
   "source": [
    "#show some cows\n",
    "\n",
    "plt.figure(figsize=(10,10))\n",
    "x, y =2,3\n",
    "n=0\n",
    "for i in range(len(errl)): \n",
    "    m=errl[i]\n",
    "    if y_pred[m]==labels.index('cow'):\n",
    "        plt.subplot(y, x,n+1)\n",
    "        plt.imshow(X[m],cmap='gray')\n",
    "        plt.title('true Shape: {}\\npredicted: {}'.format((labels[y_test[m]]),labels[y_pred[m]]))\n",
    "        plt.tight_layout()\n",
    "        plt.axis('off')\n",
    "        n=n+1\n",
    "\n",
    "plt.show()"
   ]
  },
  {
   "cell_type": "code",
   "execution_count": null,
   "id": "a12321b7",
   "metadata": {},
   "outputs": [],
   "source": []
  }
 ],
 "metadata": {
  "kernelspec": {
   "display_name": "Python 3 (ipykernel)",
   "language": "python",
   "name": "python3"
  },
  "language_info": {
   "codemirror_mode": {
    "name": "ipython",
    "version": 3
   },
   "file_extension": ".py",
   "mimetype": "text/x-python",
   "name": "python",
   "nbconvert_exporter": "python",
   "pygments_lexer": "ipython3",
   "version": "3.9.7"
  }
 },
 "nbformat": 4,
 "nbformat_minor": 5
}
