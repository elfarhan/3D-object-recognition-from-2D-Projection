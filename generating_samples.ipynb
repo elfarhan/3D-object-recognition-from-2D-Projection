{
 "cells": [
  {
   "cell_type": "code",
   "execution_count": 1,
   "id": "450844ce",
   "metadata": {},
   "outputs": [],
   "source": [
    "import pyvista \n",
    "from pyvista import examples\n",
    "import os, os.path\n",
    "import random\n",
    "import numpy as np\n"
   ]
  },
  {
   "cell_type": "markdown",
   "id": "9ef10d88",
   "metadata": {},
   "source": [
    "### Function to generate random shadows of objects"
   ]
  },
  {
   "cell_type": "code",
   "execution_count": 3,
   "id": "8b15fe4e",
   "metadata": {},
   "outputs": [],
   "source": [
    "def light_sampler(r):\n",
    "        theta = np.random.uniform(0, np.pi/2)\n",
    "        phi = np.random.uniform(0, 2*np.pi)\n",
    "        return r*np.cos(phi)*np.sin(theta),r* np.sin(phi)*np.sin(theta), r*np.cos(theta) \n",
    "def sampler():\n",
    "        rot_x = random.randint(0, 180)\n",
    "        rot_y = random.randint(0, 180)\n",
    "        rot_z = random.randint(0, 180)\n",
    "        return rot_x, rot_y, rot_z \n",
    "\n",
    "def generate_samples(number_of_samples, name_of_object, mesh):\n",
    "    pl = pyvista.Plotter()\n",
    "    pyvista.global_theme.background = 'white'\n",
    "     \n",
    "    path = './Data/'+name_of_object+'/'\n",
    "    os.makedirs(os.path.dirname('./Data/'), exist_ok=True)\n",
    "    os.makedirs(os.path.dirname('./Data/'+name_of_object+'/'), exist_ok=True)\n",
    "    for n in range(number_of_samples):\n",
    "        rot_x, rot_y, rot_z = sampler()\n",
    "        mesh.rotate_y(rot_x, inplace=True)\n",
    "        mesh.rotate_x(rot_y, inplace=True)\n",
    "        mesh.rotate_z(rot_z, inplace=True)\n",
    "        pl = pyvista.Plotter()\n",
    "        pl.add_mesh(mesh, show_edges=None, color='black') \n",
    "        pl.screenshot(path+\"screenshot\"+str(rot_x)+str(rot_y)+str(rot_z))\n",
    "        pl.deep_clean()\n",
    "    return"
   ]
  },
  {
   "cell_type": "code",
   "execution_count": 5,
   "id": "17c10294",
   "metadata": {},
   "outputs": [],
   "source": [
    "\"\"\"\n",
    "#### The following is purley legacy code. NOT USED ANYWHERE\n",
    "\n",
    "def generate_samples(number_of_samples, name_of_object, mesh,img_size=600):\n",
    "    pl = pyvista.Plotter()\n",
    "    pyvista.global_theme.background = 'white'\n",
    "     \n",
    "    path = './Data/'+name_of_object+'/'\n",
    "    os.makedirs(os.path.dirname('./Data/'), exist_ok=True)\n",
    "    os.makedirs(os.path.dirname('./Data/'+name_of_object+'/'), exist_ok=True)\n",
    "    bounds = mesh.bounds\n",
    "    rnge = (bounds[1] - bounds[0], bounds[3] - bounds[2], bounds[5] - bounds[4])\n",
    "\n",
    "    for n in range(number_of_samples):\n",
    "        rot_x, rot_y, rot_z = sampler()\n",
    "        x, y, z = light_sampler(200*rnge[2])\n",
    "        light_pos = np.array([x, y, z])\n",
    "        light = pyvista.Light(\n",
    "                position=(x, y, z ),#+70*bounds[5]\n",
    "                focal_point=(0, 0, 0),\n",
    "                color=[1.0, 1.0, 1.0, 1.0],  # Color temp. 5400 K\n",
    "                intensity=10,\n",
    "                )\n",
    "        mesh.rotate_y(rot_x, inplace=True)\n",
    "        mesh.rotate_x(rot_y, inplace=True)\n",
    "        mesh.rotate_z(rot_z, inplace=True)\n",
    "        pl = pyvista.Plotter(lighting=None, window_size=(img_size,img_size))\n",
    "        pl.add_light(light)\n",
    "        actor = pl.add_mesh(mesh, show_edges=None, color='white')\n",
    "        c=-4*max(rnge)*light_pos/np.linalg.norm(light_pos)\n",
    "        pl.add_mesh(pyvista.Plane(center=c, direction=(0,0,1),\\\n",
    "            i_size= 5*bounds[5], j_size= 5*bounds[5]))\n",
    "        pl.enable_shadows()\n",
    "        pl.set_position([c[0], c[1], 1*rnge[2]])\n",
    "        camera = pyvista.Camera()\n",
    "        pl.camera.focal_point = c\n",
    "        #pl.show()\n",
    "        pl.screenshot(path+\"screenshot\"+str(rot_x)+str(rot_y)+str(rot_z))\n",
    "        pl.deep_clean()\n",
    "    return\n",
    "def generate_samples(number_of_samples, name_of_object, mesh):\n",
    "    pl = pyvista.Plotter()\n",
    "    pyvista.global_theme.background = 'white'\n",
    "     \n",
    "    path = './Data/'+name_of_object+'/'\n",
    "    os.makedirs(os.path.dirname('./Data/'), exist_ok=True)\n",
    "    os.makedirs(os.path.dirname('./Data/'+name_of_object+'/'), exist_ok=True)\n",
    "    for n in range(number_of_samples):\n",
    "        rot_x, rot_y, rot_z = sampler()\n",
    "        mesh.rotate_y(rot_x, inplace=True)\n",
    "        mesh.rotate_x(rot_y, inplace=True)\n",
    "        mesh.rotate_z(rot_z, inplace=True)\n",
    "        pl = pyvista.Plotter()\n",
    "        pl.add_mesh(mesh, show_edges=None, color='black') \n",
    "        pl.screenshot(path+\"screenshot\"+str(rot_x)+str(rot_y)+str(rot_z))\n",
    "        pl.deep_clean()\n",
    "    return\n",
    "\"\"\""
   ]
  },
  {
   "cell_type": "code",
   "execution_count": 6,
   "id": "66e4cd07",
   "metadata": {},
   "outputs": [],
   "source": [
    "diamond = pyvista.read('./diamond.obj')\n",
    "dodecahedron = pyvista.read('./dodecahedron.obj')\n",
    "icosahedron = pyvista.read('./icosahedron.obj')\n",
    "Tours = pyvista.read('./Tours.obj')\n",
    "Cylinder = pyvista.Cylinder()\n",
    "human = pyvista.read('./humanoid_quad.obj')"
   ]
  },
  {
   "cell_type": "code",
   "execution_count": 7,
   "id": "bb770bfb",
   "metadata": {},
   "outputs": [],
   "source": [
    "shapes = [pyvista.Cube(),pyvista.Tetrahedron(), examples.download_cow(), pyvista.Pyramid(),diamond,\\\n",
    "          dodecahedron, icosahedron, Tours, Cylinder, human]\n",
    "names = [\"Cube\",\"Tetrahedron\",\"cow\",\"Pyramid\",\"diamond\", \"dodecahedron\",\"icosahedron\", \"Torus\",\\\n",
    "        \"Cylinder\",\"human\"]\n"
   ]
  },
  {
   "cell_type": "markdown",
   "id": "35209901",
   "metadata": {},
   "source": [
    "### Generate Samples"
   ]
  },
  {
   "cell_type": "code",
   "execution_count": 8,
   "id": "3c69369c",
   "metadata": {},
   "outputs": [],
   "source": [
    "#i=0\n",
    "#generate_samples(200, names[i], shapes[i])"
   ]
  },
  {
   "cell_type": "code",
   "execution_count": 9,
   "id": "f23aadce",
   "metadata": {},
   "outputs": [],
   "source": [
    "#i=1\n",
    "#generate_samples(200, names[i], shapes[i])"
   ]
  },
  {
   "cell_type": "code",
   "execution_count": 10,
   "id": "277f31d8",
   "metadata": {},
   "outputs": [],
   "source": [
    "#i=2\n",
    "#generate_samples(200, names[i], shapes[i])"
   ]
  },
  {
   "cell_type": "code",
   "execution_count": 11,
   "id": "aedc0c06",
   "metadata": {},
   "outputs": [],
   "source": [
    "#i=3\n",
    "#generate_samples(200, names[i], shapes[i])"
   ]
  },
  {
   "cell_type": "code",
   "execution_count": 12,
   "id": "a5d16d64",
   "metadata": {},
   "outputs": [],
   "source": [
    "#i=4\n",
    "#generate_samples(100, names[i], shapes[i])"
   ]
  },
  {
   "cell_type": "code",
   "execution_count": 13,
   "id": "db7619b2",
   "metadata": {},
   "outputs": [],
   "source": [
    "#i=5\n",
    "#generate_samples(101, names[i], shapes[i])"
   ]
  },
  {
   "cell_type": "code",
   "execution_count": 14,
   "id": "a3fdb948",
   "metadata": {},
   "outputs": [],
   "source": [
    "#i=6\n",
    "#generate_samples(100, names[i], shapes[i])"
   ]
  },
  {
   "cell_type": "code",
   "execution_count": 15,
   "id": "36184216",
   "metadata": {},
   "outputs": [],
   "source": [
    "#i=7\n",
    "#generate_samples(101, names[i], shapes[i])"
   ]
  },
  {
   "cell_type": "code",
   "execution_count": 16,
   "id": "08b9da67",
   "metadata": {},
   "outputs": [],
   "source": [
    "#i=8\n",
    "#generate_samples(100, names[i], shapes[i])"
   ]
  },
  {
   "cell_type": "code",
   "execution_count": 17,
   "id": "5ff8e1d3",
   "metadata": {},
   "outputs": [],
   "source": [
    "#i=9\n",
    "#generate_samples(100, names[i], shapes[i])"
   ]
  },
  {
   "cell_type": "markdown",
   "id": "cabe5e25",
   "metadata": {},
   "source": [
    "### Convert dataset to numpy arrays"
   ]
  },
  {
   "cell_type": "code",
   "execution_count": 4,
   "id": "e87e0df0",
   "metadata": {},
   "outputs": [],
   "source": [
    "number_of_sammles = 400"
   ]
  },
  {
   "cell_type": "code",
   "execution_count": 1,
   "id": "5cd61c01",
   "metadata": {},
   "outputs": [],
   "source": [
    "from numba import jit\n",
    "@jit(nopython=True)\n",
    "def edge_detector(img, with_coordinates=False):\n",
    "    res = img*0\n",
    "    for a in range(1,len(img)-1):\n",
    "        for b in range(1,len(img)-1):\n",
    "            v = img[a,b]\n",
    "            res[a,b] = bool(v^img[a+1,b-1]) or bool(v^img[a+1,b])\\\n",
    "            or bool(v^img[a+1,b+1]) or bool(v^img[a,b-1]) or bool(v^img[a,b])\\\n",
    "            or bool(v^img[a,b+1]) or bool(v^img[a-1,b-1]) or bool(v^img[a-1,b])\\\n",
    "            or bool(v^img[a-1,b+1])\n",
    "            res[a,b] = not res[a,b]\n",
    "\n",
    "    return res\n",
    "\n"
   ]
  },
  {
   "cell_type": "code",
   "execution_count": 2,
   "id": "2c1e6e39",
   "metadata": {},
   "outputs": [],
   "source": [
    "#@jit(nopython=True)\n",
    "def FD(img, length, norm='abs'):\n",
    "    coordinates = []\n",
    "    \n",
    "    for a in range(len(img)):\n",
    "        for b in range(len(img)):\n",
    "            if bool(img[a,b]):\n",
    "                coordinates.append(a +b*1j)\n",
    "    #fd = np.fft.fft(coordinates)[0:length]\n",
    "    c = []    \n",
    "    for i in range(100):\n",
    "        j = int(i *len(coordinates)/100)\n",
    "        c.append(coordinates[j])\n",
    "    fd = np.fft.fft(c)\n",
    "    if norm=='abs':\n",
    "        res = np.array([np.absolute(f)/np.absolute(fd[0])/np.absolute(fd[1]) for f in fd])\n",
    "    if norm=='Cn':\n",
    "        res = np.array([np.absolute(f/fd[0]) for f in fd])[1:]\n",
    "        #im = np.array([np.imag(f/fd[1]/fd[0]) for f in fd])\n",
    "        #res = np.concatenate([re, im])\n",
    "    if norm=='Emil':\n",
    "        res = normalize(np.absolute(fd[:,1:]))\n",
    "    return res"
   ]
  },
  {
   "cell_type": "code",
   "execution_count": 3,
   "id": "0a5a379c",
   "metadata": {},
   "outputs": [],
   "source": [
    "labels = [\"Cube\",\"Tetrahedron\",\"cow\",\"Pyramid\",\"diamond\", \"dodecahedron\",\"icosahedron\"\\\n",
    "          , \"Torus\", \"Cylinder\",\"human\"]\n",
    "img_size = 200\n",
    "def get_data(data_dir, data_size,  data_type = 'edge'):\n",
    "    FD_length = 50\n",
    "    FD_norm='Cn'\n",
    "    data = []\n",
    "    for label in labels: \n",
    "        path = os.path.join(data_dir, label)\n",
    "        class_num = labels.index(label)\n",
    "        for i in range(data_size):\n",
    "            img=os.listdir(path)[i]\n",
    "            try:\n",
    "                img_arr = cv2.imread(os.path.join(path, img),cv2.IMREAD_GRAYSCALE)\n",
    "                resized_arr = cv2.resize(img_arr, (img_size, img_size))\n",
    "                if data_type == 'edge':\n",
    "                    edge_img = edge_detector(resized_arr)\n",
    "                    data.append([edge_img, class_num])\n",
    "                elif data_type == 'FD':\n",
    "                    edge_img = edge_detector(resized_arr)\n",
    "                    Fds = FD(edge_img, FD_length, FD_norm)\n",
    "                    data.append([Fds, class_num])\n",
    "                elif data_type == 'img':\n",
    "                    data.append([resized_arr.astype(bool), class_num])\n",
    "            except Exception as e:\n",
    "                print(e)\n",
    "    return np.array(data)"
   ]
  },
  {
   "cell_type": "code",
   "execution_count": 5,
   "id": "9021ef71",
   "metadata": {},
   "outputs": [],
   "source": [
    "#data_set_edge = get_data(r'./Data',number_of_sammles, data_type = 'edge')"
   ]
  },
  {
   "cell_type": "code",
   "execution_count": 6,
   "id": "d61719fe",
   "metadata": {},
   "outputs": [],
   "source": [
    "#data_set_img = get_data(r'./Data',number_of_sammles,data_type ='img')"
   ]
  },
  {
   "cell_type": "code",
   "execution_count": 7,
   "id": "f062b602",
   "metadata": {},
   "outputs": [],
   "source": [
    "data_set_FD = []\n",
    "for img, label in data_set_edge:\n",
    "    data_set_FD.append([FD(img, 100, norm='Cn')[1:], label])"
   ]
  },
  {
   "cell_type": "code",
   "execution_count": 8,
   "id": "d13b0e7e",
   "metadata": {},
   "outputs": [],
   "source": [
    "#np.save(r'./Data/data_set_img',data_set_img)\n",
    "#np.save(r'./Data/data_set_edge',data_set_edge)\n",
    "#np.save(r'./Data/data_set_FD',data_set_FD)"
   ]
  }
 ],
 "metadata": {
  "kernelspec": {
   "display_name": "Python 3 (ipykernel)",
   "language": "python",
   "name": "python3"
  },
  "language_info": {
   "codemirror_mode": {
    "name": "ipython",
    "version": 3
   },
   "file_extension": ".py",
   "mimetype": "text/x-python",
   "name": "python",
   "nbconvert_exporter": "python",
   "pygments_lexer": "ipython3",
   "version": "3.10.7"
  }
 },
 "nbformat": 4,
 "nbformat_minor": 5
}
