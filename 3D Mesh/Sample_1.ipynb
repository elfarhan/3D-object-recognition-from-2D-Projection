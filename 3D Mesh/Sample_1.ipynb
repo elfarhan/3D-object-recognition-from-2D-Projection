{
 "cells": [
  {
   "cell_type": "code",
   "execution_count": 21,
   "id": "e9a67f6e",
   "metadata": {},
   "outputs": [],
   "source": [
    "import open3d as o3d\n",
    "import numpy as np"
   ]
  },
  {
   "cell_type": "code",
   "execution_count": 2,
   "id": "7f56c84f",
   "metadata": {},
   "outputs": [],
   "source": [
    "mesh = o3d.io.read_triangle_mesh(\"cube.obj\")\n",
    "#mesh = o3d.io.read_triangle_mesh(\"sphere.obj\")\n",
    "#mesh = o3d.io.read_triangle_mesh(\"tetrahedron.obj\")\n",
    "#mesh = o3d.io.read_triangle_mesh(\"cow.obj\")\n",
    "\n",
    "#mesh.compute_vertex_normals()\n",
    "\n",
    "o3d.visualization.draw_geometries([mesh])"
   ]
  },
  {
   "cell_type": "code",
   "execution_count": 3,
   "id": "62800b5e",
   "metadata": {},
   "outputs": [
    {
     "name": "stdout",
     "output_type": "stream",
     "text": [
      "Vertices: [[ 2.18866205  5.86984015  0.51677299]\n",
      " [ 1.79489398  4.83536005  0.48091   ]\n",
      " [ 2.717314    6.01616001 -1.116395  ]\n",
      " ...\n",
      " [-0.92921501  2.70158911 -4.67958117]\n",
      " [-0.759368    2.66751289 -4.68555212]\n",
      " [-0.72835702  2.64725804 -4.83324718]]\n",
      "Triangles: [[   0    1    2]\n",
      " [   3    2    1]\n",
      " [   4    0    5]\n",
      " ...\n",
      " [1027 1030 1029]\n",
      " [1027 1031 1030]\n",
      " [1027 1012 1031]]\n"
     ]
    }
   ],
   "source": [
    "v=np.asarray(mesh.vertices)\n",
    "t=np.asarray(mesh.triangles)\n",
    "\n",
    "print('Vertices:',v)\n",
    "print('Triangles:',t)\n"
   ]
  }
 ],
 "metadata": {
  "kernelspec": {
   "display_name": "Python 3 (ipykernel)",
   "language": "python",
   "name": "python3"
  },
  "language_info": {
   "codemirror_mode": {
    "name": "ipython",
    "version": 3
   },
   "file_extension": ".py",
   "mimetype": "text/x-python",
   "name": "python",
   "nbconvert_exporter": "python",
   "pygments_lexer": "ipython3",
   "version": "3.9.12"
  }
 },
 "nbformat": 4,
 "nbformat_minor": 5
}
