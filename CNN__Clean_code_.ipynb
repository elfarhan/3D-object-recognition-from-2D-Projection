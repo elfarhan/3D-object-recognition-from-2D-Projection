{
 "cells": [
  {
   "cell_type": "code",
   "execution_count": null,
   "id": "bc556dcd",
   "metadata": {},
   "outputs": [],
   "source": [
    "import matplotlib.pyplot as plt\n",
    "import seaborn as sns\n",
    "import keras\n",
    "from keras.models import Sequential\n",
    "from keras.layers import Dense, Conv2D , MaxPool2D , Flatten , Dropout \n",
    "from keras.preprocessing.image import ImageDataGenerator\n",
    "from keras.optimizers import Adam\n",
    "from sklearn.model_selection import train_test_split\n",
    "from sklearn.metrics import classification_report,confusion_matrix\n",
    "import tensorflow as tf\n",
    "import cv2\n",
    "import os\n",
    "import numpy as np\n",
    "import random\n",
    "from sklearn import metrics"
   ]
  },
  {
   "cell_type": "code",
   "execution_count": null,
   "id": "b51de783",
   "metadata": {},
   "outputs": [],
   "source": [
    "labels = ['pyramid', 'Tetrahedron','cow','cube']\n",
    "img_size = 600\n",
    "def get_data(data_dir,data_size):\n",
    "    data = [] \n",
    "    for label in labels: \n",
    "        path = os.path.join(data_dir, label)\n",
    "        class_num = labels.index(label)\n",
    "        for i in range(data_size):\n",
    "            img=os.listdir(path)[i]\n",
    "            try:\n",
    "                img_arr = cv2.imread(os.path.join(path, img),cv2.IMREAD_GRAYSCALE)\n",
    "                resized_arr = cv2.resize(img_arr, (img_size, img_size)) #Reshaping images to preferred size\n",
    "                data.append([resized_arr, class_num])\n",
    "            except Exception as e:\n",
    "                print(e)\n",
    "    return np.array(data)"
   ]
  },
  {
   "cell_type": "code",
   "execution_count": null,
   "id": "f560c1e7",
   "metadata": {},
   "outputs": [],
   "source": [
    "data_set = get_data(r'.\\Data',20)"
   ]
  },
  {
   "cell_type": "code",
   "execution_count": null,
   "id": "562cf840",
   "metadata": {},
   "outputs": [],
   "source": [
    "X=[]\n",
    "y=[]\n",
    "for feature, label in data_set:\n",
    "    X.append(feature)\n",
    "    y.append(label)"
   ]
  },
  {
   "cell_type": "code",
   "execution_count": null,
   "id": "e2ee89ea",
   "metadata": {},
   "outputs": [],
   "source": [
    "#Spliting the Data \n",
    "X_train, X_test, y_train, y_test = train_test_split(X, y, test_size=0.33)"
   ]
  },
  {
   "cell_type": "code",
   "execution_count": null,
   "id": "f8af389c",
   "metadata": {},
   "outputs": [],
   "source": [
    "#test \n",
    "num = random.randint(0,len(X_train))\n",
    "plt.figure(figsize = (5,5))\n",
    "plt.imshow(X_train[num],cmap='gray')\n",
    "plt.title(y_train[num])\n",
    "print(num)"
   ]
  },
  {
   "cell_type": "code",
   "execution_count": null,
   "id": "a647a81f",
   "metadata": {},
   "outputs": [],
   "source": [
    "# Normalize the data\n",
    "\n",
    "X_train = np.array(X_train) / 255\n",
    "X_test = np.array(X_test) / 255\n",
    "\n",
    "#reshape and convert target values to one hot vectors\n",
    "X_train=X_train.reshape(-1, img_size, img_size, 1)\n",
    "y_train = np.array(y_train)\n",
    "y_train = keras.utils.to_categorical(y_train, len(labels))\n",
    "\n",
    "\n",
    "X_test=X_test.reshape(-1, img_size, img_size, 1)\n",
    "y_test = np.array(y_test)\n",
    "y_test = keras.utils.to_categorical(y_test, len(labels))\n",
    "\n",
    "print(np.shape(X_train))\n",
    "print(np.shape(y_train))\n",
    "print(np.shape(X_test))\n",
    "print(np.shape(y_test))"
   ]
  },
  {
   "cell_type": "code",
   "execution_count": null,
   "id": "4fcd92f3",
   "metadata": {},
   "outputs": [],
   "source": [
    "#test\n",
    "num = random.randint(0,len(X_train))\n",
    "plt.figure(figsize = (5,5))\n",
    "plt.imshow(X_train[num],cmap='gray')\n",
    "plt.title(y_train[num])\n",
    "print(num)"
   ]
  },
  {
   "cell_type": "markdown",
   "id": "47315a80",
   "metadata": {},
   "source": [
    "## CNN Model"
   ]
  },
  {
   "cell_type": "code",
   "execution_count": null,
   "id": "ff179a0f",
   "metadata": {},
   "outputs": [],
   "source": [
    "model = Sequential()\n",
    "model.add(Conv2D(32,3,padding=\"same\", activation=\"relu\", input_shape=(600,600,1)))\n",
    "model.add(MaxPool2D())\n",
    "\n",
    "model.add(Conv2D(32, 3, padding=\"same\", activation=\"relu\"))\n",
    "model.add(MaxPool2D())\n",
    "\n",
    "model.add(Conv2D(64, 3, padding=\"same\", activation=\"relu\"))\n",
    "model.add(MaxPool2D())\n",
    "model.add(Dropout(0.4))\n",
    "\n",
    "model.add(Flatten())\n",
    "model.add(Dense(128,activation=\"relu\"))\n",
    "model.add(Dense(len(labels), activation=\"softmax\"))\n",
    "\n",
    "model.summary()"
   ]
  },
  {
   "cell_type": "code",
   "execution_count": null,
   "id": "dd244fd2",
   "metadata": {},
   "outputs": [],
   "source": [
    "opt = Adam(learning_rate=0.000001)\n",
    "model.compile(optimizer = opt , loss=keras.losses.categorical_crossentropy , metrics = ['accuracy'])"
   ]
  },
  {
   "cell_type": "code",
   "execution_count": null,
   "id": "3e7468d8",
   "metadata": {},
   "outputs": [],
   "source": [
    "epochs = 20\n",
    "history = model.fit(X_train,y_train,epochs = epochs , validation_data = (X_test, y_test))"
   ]
  },
  {
   "cell_type": "markdown",
   "id": "3c3d63b4",
   "metadata": {},
   "source": [
    "## Accuracy and Loss Plots"
   ]
  },
  {
   "cell_type": "code",
   "execution_count": null,
   "id": "fe9659c9",
   "metadata": {},
   "outputs": [],
   "source": [
    "acc = history.history['accuracy']\n",
    "val_acc = history.history['val_accuracy']\n",
    "loss = history.history['loss']\n",
    "val_loss = history.history['val_loss']\n",
    "\n",
    "epochs_range = range(epochs)\n",
    "\n",
    "plt.figure(figsize=(15, 15))\n",
    "plt.subplot(2, 2, 1)\n",
    "plt.plot(epochs_range, acc, label='Training Accuracy')\n",
    "plt.plot(epochs_range, val_acc, label='Validation Accuracy')\n",
    "plt.legend(loc='lower right')\n",
    "plt.title('Training and Validation Accuracy')\n",
    "\n",
    "plt.subplot(2, 2, 2)\n",
    "plt.plot(epochs_range, loss, label='Training Loss')\n",
    "plt.plot(epochs_range, val_loss, label='Validation Loss')\n",
    "plt.legend(loc='upper right')\n",
    "plt.title('Training and Validation Loss')\n",
    "plt.show()"
   ]
  },
  {
   "cell_type": "markdown",
   "id": "ecc5b6cb",
   "metadata": {},
   "source": [
    "## Classification report"
   ]
  },
  {
   "cell_type": "code",
   "execution_count": null,
   "id": "8df64428",
   "metadata": {
    "scrolled": false
   },
   "outputs": [],
   "source": [
    "y_pred = model.predict(X_test)\n",
    "# convert one hot to vector\n",
    "Y_test = np.argmax(y_test, axis = 1)\n",
    "Y_pred = np.argmax(y_pred, axis = 1)\n",
    "\n",
    "print(classification_report(Y_test, Y_pred, target_names = labels))\n"
   ]
  },
  {
   "cell_type": "markdown",
   "id": "8e47e2d8",
   "metadata": {},
   "source": [
    "## Test loss: and Test accuracy"
   ]
  },
  {
   "cell_type": "code",
   "execution_count": null,
   "id": "95d83ab4",
   "metadata": {},
   "outputs": [],
   "source": [
    "score = model.evaluate(X_test, y_test, verbose=0)\n",
    "print('Test loss: {:.4}'.format(score[0]))\n",
    "print('Test accuracy: {:.4}'.format(score[1]))"
   ]
  },
  {
   "cell_type": "markdown",
   "id": "9c977703",
   "metadata": {},
   "source": [
    "## Confusion matrix"
   ]
  },
  {
   "cell_type": "code",
   "execution_count": null,
   "id": "740209e0",
   "metadata": {
    "scrolled": false
   },
   "outputs": [],
   "source": [
    "# confusion matrix\n",
    "\n",
    "\n",
    "y_pred = model.predict(X_test)\n",
    "# convert one hot to vector\n",
    "Y_test = np.argmax(y_test, axis = 1)\n",
    "Y_pred = np.argmax(y_pred, axis = 1)\n",
    "\n",
    "cm1 = metrics.confusion_matrix(Y_test, Y_pred)\n",
    "\n",
    "plt.figure(figsize=(9,9))\n",
    "ax= plt.subplot()\n",
    "sns.heatmap(cm1, annot=True, fmt=\".0f\", linewidths=.5, square=True, cmap='Blues_r')\n",
    "ax.set_ylabel('true shape', size=17)\n",
    "ax.set_xlabel('predicted shape', size=17)\n",
    "ax.xaxis.set_ticklabels(['pyramid', 'Tetrahedron','cow','cube']); ax.yaxis.set_ticklabels(['pyramid', 'Tetrahedron','cow','cube'])\n"
   ]
  },
  {
   "cell_type": "markdown",
   "id": "3cff2fbf",
   "metadata": {},
   "source": [
    "## Showing all wrong predictions\n"
   ]
  },
  {
   "cell_type": "code",
   "execution_count": null,
   "id": "e6de2d41",
   "metadata": {
    "scrolled": true
   },
   "outputs": [],
   "source": [
    "errors = (Y_pred - Y_test != 0)\n",
    "error_pos = np.array(np.where(errors))\n",
    "print('total number of errors:', len(error_pos[0,:]))\n",
    "\n",
    "errl=[]\n",
    "for i in range(len(Y_test)):\n",
    "    if Y_pred[i] - Y_test[i] != 0:\n",
    "        errl.append(i)\n",
    "        \n",
    "plt.figure(figsize=(15,15))\n",
    "x, y =3,int(len(errl)/3)+1\n",
    "for i in range(len(errl)):\n",
    "    plt.subplot(y, x,i+1)\n",
    "    m=int(errl[i])\n",
    "    plt.imshow(X_test[m],cmap='gray')\n",
    "    plt.title('target: {}\\npredicted: {}'.format((labels[Y_test[m]]),labels[Y_pred[m]]))\n",
    "    plt.tight_layout()\n",
    "    plt.axis('off')\n",
    "plt.show()"
   ]
  },
  {
   "cell_type": "markdown",
   "id": "a8e1ad01",
   "metadata": {},
   "source": [
    "## Showing some good predictions"
   ]
  },
  {
   "cell_type": "code",
   "execution_count": null,
   "id": "946725b7",
   "metadata": {
    "scrolled": true
   },
   "outputs": [],
   "source": [
    "\n",
    "plt.figure(figsize=(12,12))\n",
    "x, y =5,5\n",
    "for i in range(25):\n",
    "    plt.subplot(y, x,i+1)\n",
    "    m=random.randint(0, 50)\n",
    "    while m in errl:\n",
    "        m=random.randint(0, 200)\n",
    "    plt.imshow(X_test[m],cmap='gray')\n",
    "    plt.title('target: {}\\npredicted: {}'.format((labels[Y_test[m]]),labels[Y_pred[m]]))\n",
    "    plt.tight_layout()\n",
    "    plt.axis('off')\n",
    "\n",
    "plt.show()"
   ]
  },
  {
   "cell_type": "code",
   "execution_count": null,
   "id": "e2b7f3a0",
   "metadata": {},
   "outputs": [],
   "source": []
  }
 ],
 "metadata": {
  "kernelspec": {
   "display_name": "Python 3 (ipykernel)",
   "language": "python",
   "name": "python3"
  },
  "language_info": {
   "codemirror_mode": {
    "name": "ipython",
    "version": 3
   },
   "file_extension": ".py",
   "mimetype": "text/x-python",
   "name": "python",
   "nbconvert_exporter": "python",
   "pygments_lexer": "ipython3",
   "version": "3.9.7"
  }
 },
 "nbformat": 4,
 "nbformat_minor": 5
}
